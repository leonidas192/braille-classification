{
 "cells": [
  {
   "cell_type": "code",
   "execution_count": 11,
   "id": "a92fb519",
   "metadata": {},
   "outputs": [],
   "source": [
    "import numpy as np\n",
    "import pandas as pd\n",
    "import matplotlib.pyplot as plt\n",
    "#import seaborn as sns\n",
    "import tensorflow as tf\n",
    "from tensorflow import keras\n",
    "from pathlib import Path\n",
    "from sklearn.preprocessing import LabelEncoder\n",
    "import PIL\n",
    "import cv2\n",
    "import os"
   ]
  },
  {
   "cell_type": "code",
   "execution_count": null,
   "id": "91c9dfd6",
   "metadata": {},
   "outputs": [],
   "source": [
    "from shutil import copyfile\n",
    "os.mkdir('./images/')\n",
    "alpha = 'a'\n",
    "for i in range(0, 26): \n",
    "    os.mkdir('./images/' + alpha)\n",
    "    alpha = chr(ord(alpha) + 1)\n",
    "    \n",
    "base_dir = 'D:/My Document/data kevin/Project Skripsi/Braille Dataset/Braille Dataset/'\n",
    "\n",
    "for file in os.listdir(base_dir):\n",
    "    letter = file[0]\n",
    "    copyfile(base_dir+file, './images/' + letter + '/' + file)"
   ]
  },
  {
   "cell_type": "code",
   "execution_count": 71,
   "id": "5db99421",
   "metadata": {},
   "outputs": [],
   "source": [
    "from tensorflow.keras.preprocessing.image import ImageDataGenerator\n",
    "train_datagen = ImageDataGenerator(rotation_range=20,\n",
    "    shear_range=10,\n",
    "    validation_split=0.2)"
   ]
  },
  {
   "cell_type": "code",
   "execution_count": 72,
   "id": "54d7718b",
   "metadata": {},
   "outputs": [
    {
     "name": "stdout",
     "output_type": "stream",
     "text": [
      "Found 1248 images belonging to 26 classes.\n",
      "Found 312 images belonging to 26 classes.\n"
     ]
    }
   ],
   "source": [
    "train_generator = train_datagen.flow_from_directory(\n",
    "    './images/',\n",
    "    target_size=(28, 28),\n",
    "    batch_size = 32,\n",
    "    class_mode='categorical',\n",
    "    subset='training') # set as training data\n",
    "\n",
    "val_generator = train_datagen.flow_from_directory(\n",
    "    './images/', # same directory as training data\n",
    "    target_size=(28, 28),\n",
    "    class_mode='categorical',\n",
    "    batch_size = 32,\n",
    "    subset='validation')"
   ]
  },
  {
   "cell_type": "code",
   "execution_count": 73,
   "id": "4aae0aa2",
   "metadata": {
    "scrolled": true
   },
   "outputs": [
    {
     "name": "stdout",
     "output_type": "stream",
     "text": [
      "Epoch 1/100\n",
      "39/39 [==============================] - 5s 98ms/step - loss: 3.1187 - accuracy: 0.1282 - val_loss: 3.2491 - val_accuracy: 0.0625 - lr: 0.0010\n",
      "Epoch 2/100\n",
      "39/39 [==============================] - 3s 87ms/step - loss: 2.3393 - accuracy: 0.3013 - val_loss: 3.2384 - val_accuracy: 0.0660 - lr: 0.0010\n",
      "Epoch 3/100\n",
      "39/39 [==============================] - 4s 89ms/step - loss: 1.8008 - accuracy: 0.4599 - val_loss: 3.2334 - val_accuracy: 0.0486 - lr: 0.0010\n",
      "Epoch 4/100\n",
      "39/39 [==============================] - 4s 90ms/step - loss: 1.2854 - accuracy: 0.6098 - val_loss: 3.2310 - val_accuracy: 0.1007 - lr: 0.0010\n",
      "Epoch 5/100\n",
      "39/39 [==============================] - 4s 89ms/step - loss: 1.0572 - accuracy: 0.6867 - val_loss: 3.1836 - val_accuracy: 0.0938 - lr: 0.0010\n",
      "Epoch 6/100\n",
      "39/39 [==============================] - 5s 122ms/step - loss: 0.8198 - accuracy: 0.7260 - val_loss: 3.0712 - val_accuracy: 0.1146 - lr: 0.0010\n",
      "Epoch 7/100\n",
      "39/39 [==============================] - 4s 103ms/step - loss: 0.7026 - accuracy: 0.7821 - val_loss: 2.8733 - val_accuracy: 0.1528 - lr: 0.0010\n",
      "Epoch 8/100\n",
      "39/39 [==============================] - 4s 98ms/step - loss: 0.5776 - accuracy: 0.8141 - val_loss: 2.5766 - val_accuracy: 0.2674 - lr: 0.0010\n",
      "Epoch 9/100\n",
      "39/39 [==============================] - 4s 100ms/step - loss: 0.5167 - accuracy: 0.8405 - val_loss: 2.1084 - val_accuracy: 0.4861 - lr: 0.0010\n",
      "Epoch 10/100\n",
      "39/39 [==============================] - 4s 103ms/step - loss: 0.4098 - accuracy: 0.8502 - val_loss: 1.7485 - val_accuracy: 0.5139 - lr: 0.0010\n",
      "Epoch 11/100\n",
      "39/39 [==============================] - 4s 98ms/step - loss: 0.4336 - accuracy: 0.8582 - val_loss: 1.3960 - val_accuracy: 0.5521 - lr: 0.0010\n",
      "Epoch 12/100\n",
      "39/39 [==============================] - 4s 89ms/step - loss: 0.4415 - accuracy: 0.8574 - val_loss: 0.8294 - val_accuracy: 0.7847 - lr: 0.0010\n",
      "Epoch 13/100\n",
      "39/39 [==============================] - 4s 90ms/step - loss: 0.3849 - accuracy: 0.8790 - val_loss: 0.7134 - val_accuracy: 0.8125 - lr: 0.0010\n",
      "Epoch 14/100\n",
      "39/39 [==============================] - 4s 96ms/step - loss: 0.3049 - accuracy: 0.9054 - val_loss: 0.4760 - val_accuracy: 0.8819 - lr: 0.0010\n",
      "Epoch 15/100\n",
      "39/39 [==============================] - 5s 122ms/step - loss: 0.2614 - accuracy: 0.9175 - val_loss: 0.5063 - val_accuracy: 0.8333 - lr: 0.0010\n",
      "Epoch 16/100\n",
      "39/39 [==============================] - 4s 107ms/step - loss: 0.2766 - accuracy: 0.9054 - val_loss: 0.4205 - val_accuracy: 0.8681 - lr: 0.0010\n",
      "Epoch 17/100\n",
      "39/39 [==============================] - 4s 98ms/step - loss: 0.2403 - accuracy: 0.9231 - val_loss: 0.4306 - val_accuracy: 0.8854 - lr: 0.0010\n",
      "Epoch 18/100\n",
      "39/39 [==============================] - 4s 109ms/step - loss: 0.2185 - accuracy: 0.9343 - val_loss: 0.2866 - val_accuracy: 0.9167 - lr: 0.0010\n",
      "Epoch 19/100\n",
      "39/39 [==============================] - 4s 96ms/step - loss: 0.2152 - accuracy: 0.9263 - val_loss: 0.5028 - val_accuracy: 0.8472 - lr: 0.0010\n",
      "Epoch 20/100\n",
      "39/39 [==============================] - 4s 93ms/step - loss: 0.2487 - accuracy: 0.9199 - val_loss: 0.4447 - val_accuracy: 0.8646 - lr: 0.0010\n",
      "Epoch 21/100\n",
      "39/39 [==============================] - 4s 101ms/step - loss: 0.2506 - accuracy: 0.9223 - val_loss: 0.3433 - val_accuracy: 0.8819 - lr: 0.0010\n",
      "Epoch 22/100\n",
      "39/39 [==============================] - 4s 95ms/step - loss: 0.1884 - accuracy: 0.9415 - val_loss: 0.3389 - val_accuracy: 0.9097 - lr: 0.0010\n",
      "Epoch 23/100\n",
      "39/39 [==============================] - 4s 100ms/step - loss: 0.2275 - accuracy: 0.9263 - val_loss: 0.3324 - val_accuracy: 0.8924 - lr: 0.0010\n",
      "Epoch 24/100\n",
      "39/39 [==============================] - 4s 91ms/step - loss: 0.2083 - accuracy: 0.9255 - val_loss: 0.2838 - val_accuracy: 0.9236 - lr: 0.0010\n",
      "Epoch 25/100\n",
      "39/39 [==============================] - 4s 96ms/step - loss: 0.2130 - accuracy: 0.9239 - val_loss: 0.2895 - val_accuracy: 0.9167 - lr: 0.0010\n",
      "Epoch 26/100\n",
      "39/39 [==============================] - 4s 108ms/step - loss: 0.1649 - accuracy: 0.9511 - val_loss: 0.2920 - val_accuracy: 0.9167 - lr: 0.0010\n",
      "Epoch 27/100\n",
      "39/39 [==============================] - 4s 98ms/step - loss: 0.1826 - accuracy: 0.9431 - val_loss: 0.3057 - val_accuracy: 0.9201 - lr: 0.0010\n",
      "Epoch 28/100\n",
      "39/39 [==============================] - 4s 91ms/step - loss: 0.1760 - accuracy: 0.9415 - val_loss: 0.3480 - val_accuracy: 0.9062 - lr: 0.0010\n",
      "Epoch 29/100\n",
      "39/39 [==============================] - 4s 102ms/step - loss: 0.1525 - accuracy: 0.9463 - val_loss: 0.3834 - val_accuracy: 0.8993 - lr: 0.0010\n",
      "Epoch 30/100\n",
      "39/39 [==============================] - 4s 93ms/step - loss: 0.1364 - accuracy: 0.9559 - val_loss: 0.2041 - val_accuracy: 0.9479 - lr: 0.0010\n",
      "Epoch 31/100\n",
      "39/39 [==============================] - 4s 94ms/step - loss: 0.1317 - accuracy: 0.9559 - val_loss: 0.2786 - val_accuracy: 0.9236 - lr: 0.0010\n",
      "Epoch 32/100\n",
      "39/39 [==============================] - 4s 98ms/step - loss: 0.1688 - accuracy: 0.9423 - val_loss: 0.1816 - val_accuracy: 0.9549 - lr: 0.0010\n",
      "Epoch 33/100\n",
      "39/39 [==============================] - 4s 97ms/step - loss: 0.1382 - accuracy: 0.9543 - val_loss: 0.2212 - val_accuracy: 0.9410 - lr: 0.0010\n",
      "Epoch 34/100\n",
      "39/39 [==============================] - 4s 94ms/step - loss: 0.1367 - accuracy: 0.9575 - val_loss: 0.1699 - val_accuracy: 0.9410 - lr: 0.0010\n",
      "Epoch 35/100\n",
      "39/39 [==============================] - 4s 90ms/step - loss: 0.1043 - accuracy: 0.9712 - val_loss: 0.2361 - val_accuracy: 0.9271 - lr: 0.0010\n",
      "Epoch 36/100\n",
      "39/39 [==============================] - 4s 92ms/step - loss: 0.1121 - accuracy: 0.9615 - val_loss: 0.1554 - val_accuracy: 0.9549 - lr: 0.0010\n",
      "Epoch 37/100\n",
      "39/39 [==============================] - 4s 91ms/step - loss: 0.1338 - accuracy: 0.9551 - val_loss: 0.1845 - val_accuracy: 0.9514 - lr: 0.0010\n",
      "Epoch 38/100\n",
      "39/39 [==============================] - 4s 92ms/step - loss: 0.1519 - accuracy: 0.9471 - val_loss: 0.2643 - val_accuracy: 0.9271 - lr: 0.0010\n",
      "Epoch 39/100\n",
      "39/39 [==============================] - 4s 101ms/step - loss: 0.1070 - accuracy: 0.9623 - val_loss: 0.1929 - val_accuracy: 0.9340 - lr: 0.0010\n",
      "Epoch 40/100\n",
      "39/39 [==============================] - 4s 97ms/step - loss: 0.1276 - accuracy: 0.9655 - val_loss: 0.2075 - val_accuracy: 0.9306 - lr: 0.0010\n",
      "Epoch 41/100\n",
      "39/39 [==============================] - 4s 99ms/step - loss: 0.1250 - accuracy: 0.9543 - val_loss: 0.2433 - val_accuracy: 0.9201 - lr: 0.0010\n",
      "Epoch 42/100\n",
      "39/39 [==============================] - 4s 95ms/step - loss: 0.1330 - accuracy: 0.9543 - val_loss: 0.1293 - val_accuracy: 0.9583 - lr: 0.0010\n",
      "Epoch 43/100\n",
      "39/39 [==============================] - 4s 90ms/step - loss: 0.0985 - accuracy: 0.9655 - val_loss: 0.1858 - val_accuracy: 0.9444 - lr: 0.0010\n",
      "Epoch 44/100\n",
      "39/39 [==============================] - 4s 104ms/step - loss: 0.1042 - accuracy: 0.9639 - val_loss: 0.2082 - val_accuracy: 0.9271 - lr: 0.0010\n",
      "Epoch 45/100\n",
      "39/39 [==============================] - 5s 119ms/step - loss: 0.1134 - accuracy: 0.9655 - val_loss: 0.1531 - val_accuracy: 0.9583 - lr: 0.0010\n",
      "Epoch 46/100\n",
      "39/39 [==============================] - 4s 99ms/step - loss: 0.1149 - accuracy: 0.9623 - val_loss: 0.2033 - val_accuracy: 0.9375 - lr: 0.0010\n",
      "Epoch 47/100\n",
      "39/39 [==============================] - 5s 127ms/step - loss: 0.0796 - accuracy: 0.9760 - val_loss: 0.2184 - val_accuracy: 0.9271 - lr: 0.0010\n",
      "Epoch 48/100\n",
      "39/39 [==============================] - 4s 106ms/step - loss: 0.0920 - accuracy: 0.9712 - val_loss: 0.1546 - val_accuracy: 0.9583 - lr: 0.0010\n",
      "Epoch 49/100\n",
      "39/39 [==============================] - 5s 120ms/step - loss: 0.0917 - accuracy: 0.9744 - val_loss: 0.1708 - val_accuracy: 0.9444 - lr: 0.0010\n",
      "Epoch 50/100\n",
      "39/39 [==============================] - 6s 151ms/step - loss: 0.1352 - accuracy: 0.9543 - val_loss: 0.2128 - val_accuracy: 0.9306 - lr: 0.0010\n",
      "Epoch 51/100\n",
      "39/39 [==============================] - 5s 121ms/step - loss: 0.0861 - accuracy: 0.9728 - val_loss: 0.1636 - val_accuracy: 0.9549 - lr: 1.0000e-04\n",
      "Epoch 52/100\n",
      "39/39 [==============================] - 4s 112ms/step - loss: 0.0609 - accuracy: 0.9784 - val_loss: 0.1687 - val_accuracy: 0.9583 - lr: 1.0000e-04\n",
      "Epoch 53/100\n"
     ]
    },
    {
     "name": "stdout",
     "output_type": "stream",
     "text": [
      "39/39 [==============================] - 5s 121ms/step - loss: 0.0516 - accuracy: 0.9832 - val_loss: 0.0689 - val_accuracy: 0.9757 - lr: 1.0000e-04\n",
      "Epoch 54/100\n",
      "39/39 [==============================] - 4s 105ms/step - loss: 0.0401 - accuracy: 0.9872 - val_loss: 0.1161 - val_accuracy: 0.9688 - lr: 1.0000e-04\n",
      "Epoch 55/100\n",
      "39/39 [==============================] - 4s 100ms/step - loss: 0.0338 - accuracy: 0.9896 - val_loss: 0.1392 - val_accuracy: 0.9653 - lr: 1.0000e-04\n",
      "Epoch 56/100\n",
      "39/39 [==============================] - 4s 95ms/step - loss: 0.0282 - accuracy: 0.9928 - val_loss: 0.0883 - val_accuracy: 0.9792 - lr: 1.0000e-04\n",
      "Epoch 57/100\n",
      "39/39 [==============================] - 4s 95ms/step - loss: 0.0250 - accuracy: 0.9936 - val_loss: 0.1331 - val_accuracy: 0.9618 - lr: 1.0000e-04\n",
      "Epoch 58/100\n",
      "39/39 [==============================] - 4s 93ms/step - loss: 0.0261 - accuracy: 0.9936 - val_loss: 0.1286 - val_accuracy: 0.9653 - lr: 1.0000e-04\n",
      "Epoch 59/100\n",
      "39/39 [==============================] - 4s 93ms/step - loss: 0.0305 - accuracy: 0.9888 - val_loss: 0.1336 - val_accuracy: 0.9722 - lr: 1.0000e-04\n",
      "Epoch 60/100\n",
      "39/39 [==============================] - 4s 95ms/step - loss: 0.0271 - accuracy: 0.9920 - val_loss: 0.1152 - val_accuracy: 0.9722 - lr: 1.0000e-04\n",
      "Epoch 61/100\n",
      "39/39 [==============================] - 4s 92ms/step - loss: 0.0350 - accuracy: 0.9888 - val_loss: 0.1232 - val_accuracy: 0.9757 - lr: 1.0000e-04\n",
      "Epoch 62/100\n",
      "39/39 [==============================] - 4s 95ms/step - loss: 0.0285 - accuracy: 0.9928 - val_loss: 0.0775 - val_accuracy: 0.9688 - lr: 1.0000e-05\n",
      "Epoch 63/100\n",
      "39/39 [==============================] - 4s 104ms/step - loss: 0.0310 - accuracy: 0.9952 - val_loss: 0.0941 - val_accuracy: 0.9722 - lr: 1.0000e-05\n",
      "Epoch 64/100\n",
      "39/39 [==============================] - 5s 118ms/step - loss: 0.0269 - accuracy: 0.9936 - val_loss: 0.1127 - val_accuracy: 0.9688 - lr: 1.0000e-05\n",
      "Epoch 65/100\n",
      "39/39 [==============================] - 4s 105ms/step - loss: 0.0362 - accuracy: 0.9896 - val_loss: 0.1572 - val_accuracy: 0.9618 - lr: 1.0000e-05\n",
      "Epoch 66/100\n",
      "39/39 [==============================] - 5s 116ms/step - loss: 0.0302 - accuracy: 0.9904 - val_loss: 0.1243 - val_accuracy: 0.9688 - lr: 1.0000e-05\n",
      "Epoch 67/100\n",
      "39/39 [==============================] - ETA: 0s - loss: 0.0249 - accuracy: 0.9944Validation accuracy is reach 98% cancel training\n",
      "39/39 [==============================] - 4s 98ms/step - loss: 0.0249 - accuracy: 0.9944 - val_loss: 0.0586 - val_accuracy: 0.9826 - lr: 1.0000e-05\n"
     ]
    }
   ],
   "source": [
    "from keras import backend as K\n",
    "from keras import layers as L\n",
    "from keras.models import Model,load_model\n",
    "from keras.regularizers import l2\n",
    "from keras.callbacks import ModelCheckpoint,ReduceLROnPlateau,EarlyStopping\n",
    "from tensorflow.keras.optimizers import Adam,SGD\n",
    "from keras import regularizers\n",
    "from keras.constraints import max_norm\n",
    "\n",
    "K.clear_session()\n",
    "batch_size = 32\n",
    "num_of_train_samples = 1248\n",
    "num_of_test_samples = 312\n",
    "\n",
    "model_ckpt = ModelCheckpoint('BrailleNet.h5',save_best_only=True)\n",
    "reduce_lr = ReduceLROnPlateau(patience=8,verbose=0)\n",
    "early_stop = EarlyStopping(patience=15,verbose=1)\n",
    "\n",
    "class myCallback(tf.keras.callbacks.Callback):\n",
    "    def on_epoch_end(self, epoch, logs={}):\n",
    "        if(logs.get('val_accuracy') > 0.98):\n",
    "            print(\"Validation accuracy is reach 98% cancel training\")\n",
    "            self.model.stop_training = True\n",
    "\n",
    "entry = L.Input(shape=(28,28,3))\n",
    "x = L.SeparableConv2D(128,(3,3),activation='relu')(entry)\n",
    "x = L.MaxPooling2D((2,2))(x)\n",
    "x = L.BatchNormalization()(x)\n",
    "\n",
    "x = L.SeparableConv2D(256,(3,3),activation='relu')(x)\n",
    "x = L.MaxPooling2D((2,2))(x)\n",
    "x = L.BatchNormalization()(x)\n",
    "\n",
    "x = L.SeparableConv2D(512,(2,2),activation='relu')(x)\n",
    "x = L.MaxPooling2D((2,2))(x)\n",
    "x = L.BatchNormalization()(x)\n",
    "\n",
    "x = L.GlobalMaxPooling2D()(x)\n",
    "\n",
    "x = L.Dropout(0.2)(x)\n",
    "x = L.Dense(256)(x)\n",
    "x = L.ReLU()(x)\n",
    "x = L.Dense(128,kernel_regularizer=l2(1e-5))(x)\n",
    "x = L.ReLU()(x)\n",
    "x = L.Dense(26,activation='softmax')(x)\n",
    "\n",
    "callbacks = myCallback()\n",
    "model = Model(entry,x)\n",
    "#opt=Adam(0.001)\n",
    "#opt1 = SGD(learning_rate = 0.001)\n",
    "model.compile(optimizer=\"Adam\",loss='categorical_crossentropy',metrics=['accuracy'])\n",
    "\n",
    "history = model.fit(train_generator,\n",
    "                              validation_data=val_generator,\n",
    "                              epochs=100,\n",
    "                              steps_per_epoch=num_of_train_samples // batch_size,\n",
    "                              callbacks=[model_ckpt,reduce_lr,callbacks],\n",
    "                              validation_steps=num_of_test_samples // batch_size,\n",
    "                              verbose=1)"
   ]
  },
  {
   "cell_type": "code",
   "execution_count": 74,
   "id": "959398d9",
   "metadata": {
    "scrolled": true
   },
   "outputs": [
    {
     "name": "stdout",
     "output_type": "stream",
     "text": [
      "Model: \"model\"\n",
      "_________________________________________________________________\n",
      " Layer (type)                Output Shape              Param #   \n",
      "=================================================================\n",
      " input_1 (InputLayer)        [(None, 28, 28, 3)]       0         \n",
      "                                                                 \n",
      " separable_conv2d (Separable  (None, 26, 26, 128)      539       \n",
      " Conv2D)                                                         \n",
      "                                                                 \n",
      " max_pooling2d (MaxPooling2D  (None, 13, 13, 128)      0         \n",
      " )                                                               \n",
      "                                                                 \n",
      " batch_normalization (BatchN  (None, 13, 13, 128)      512       \n",
      " ormalization)                                                   \n",
      "                                                                 \n",
      " separable_conv2d_1 (Separab  (None, 11, 11, 256)      34176     \n",
      " leConv2D)                                                       \n",
      "                                                                 \n",
      " max_pooling2d_1 (MaxPooling  (None, 5, 5, 256)        0         \n",
      " 2D)                                                             \n",
      "                                                                 \n",
      " batch_normalization_1 (Batc  (None, 5, 5, 256)        1024      \n",
      " hNormalization)                                                 \n",
      "                                                                 \n",
      " separable_conv2d_2 (Separab  (None, 4, 4, 512)        132608    \n",
      " leConv2D)                                                       \n",
      "                                                                 \n",
      " max_pooling2d_2 (MaxPooling  (None, 2, 2, 512)        0         \n",
      " 2D)                                                             \n",
      "                                                                 \n",
      " batch_normalization_2 (Batc  (None, 2, 2, 512)        2048      \n",
      " hNormalization)                                                 \n",
      "                                                                 \n",
      " global_max_pooling2d (Globa  (None, 512)              0         \n",
      " lMaxPooling2D)                                                  \n",
      "                                                                 \n",
      " dropout (Dropout)           (None, 512)               0         \n",
      "                                                                 \n",
      " dense (Dense)               (None, 256)               131328    \n",
      "                                                                 \n",
      " re_lu (ReLU)                (None, 256)               0         \n",
      "                                                                 \n",
      " dense_1 (Dense)             (None, 128)               32896     \n",
      "                                                                 \n",
      " re_lu_1 (ReLU)              (None, 128)               0         \n",
      "                                                                 \n",
      " dense_2 (Dense)             (None, 26)                3354      \n",
      "                                                                 \n",
      "=================================================================\n",
      "Total params: 338,485\n",
      "Trainable params: 336,693\n",
      "Non-trainable params: 1,792\n",
      "_________________________________________________________________\n"
     ]
    }
   ],
   "source": [
    "model.summary()"
   ]
  },
  {
   "cell_type": "code",
   "execution_count": 75,
   "id": "d8494489",
   "metadata": {},
   "outputs": [
    {
     "data": {
      "image/png": "[encoded data removed]",
      "text/plain": [
       "<Figure size 432x288 with 1 Axes>"
      ]
     },
     "metadata": {
      "needs_background": "light"
     },
     "output_type": "display_data"
    },
    {
     "data": {
      "image/png": "[encoded data removed]",
      "text/plain": [
       "<Figure size 432x288 with 1 Axes>"
      ]
     },
     "metadata": {
      "needs_background": "light"
     },
     "output_type": "display_data"
    }
   ],
   "source": [
    "# Plot the chart for accuracy and loss on both training and validation\n",
    "%matplotlib inline\n",
    "import matplotlib.pyplot as plt\n",
    "acc = history.history['accuracy']\n",
    "val_acc = history.history['val_accuracy']\n",
    "loss = history.history['loss']\n",
    "val_loss = history.history['val_loss']\n",
    "\n",
    "epochs = range(len(acc))\n",
    "\n",
    "plt.plot(epochs, acc, 'r', label='Training accuracy')\n",
    "plt.plot(epochs, val_acc, 'b', label='Validation accuracy')\n",
    "plt.title('Training and validation accuracy')\n",
    "plt.legend()\n",
    "plt.figure()\n",
    "\n",
    "plt.plot(epochs, loss, 'r', label='Training Loss')\n",
    "plt.plot(epochs, val_loss, 'b', label='Validation Loss')\n",
    "plt.title('Training and validation loss')\n",
    "plt.legend()\n",
    "\n",
    "plt.show()"
   ]
  },
  {
   "cell_type": "code",
   "execution_count": 77,
   "id": "4e330b2b",
   "metadata": {},
   "outputs": [
    {
     "name": "stdout",
     "output_type": "stream",
     "text": [
      "10/10 [==============================] - 1s 41ms/step - loss: 0.1339 - accuracy: 0.9551\n",
      "Accuracy: 95.51\n"
     ]
    }
   ],
   "source": [
    "model = load_model('BrailleNet.h5')\n",
    "acc = model.evaluate(val_generator)[1]\n",
    "print('Accuracy: %.2f' % (acc*100))"
   ]
  },
  {
   "cell_type": "code",
   "execution_count": 23,
   "id": "982f1a91",
   "metadata": {},
   "outputs": [
    {
     "name": "stdout",
     "output_type": "stream",
     "text": [
      "[[2.1950846e-11 2.6839830e-09 7.7844534e-06 ... 1.1446601e-06\n",
      "  9.1793666e-09 9.7692900e-05]\n",
      " [3.4704503e-11 3.1248875e-09 6.6546693e-09 ... 3.0787006e-09\n",
      "  8.9799164e-15 1.0158638e-03]\n",
      " [6.7412151e-13 4.3536854e-09 1.8777376e-15 ... 1.2928195e-09\n",
      "  2.0137834e-09 1.3470036e-10]\n",
      " ...\n",
      " [1.2880243e-05 2.5598644e-07 2.4136675e-06 ... 9.9186522e-01\n",
      "  6.8052125e-04 4.5218845e-04]\n",
      " [2.0751709e-07 7.0560118e-06 5.3819109e-09 ... 1.1727204e-06\n",
      "  2.1951733e-10 6.1983002e-07]\n",
      " [3.5400519e-16 1.4937280e-14 2.7408785e-08 ... 3.1646467e-11\n",
      "  3.3201513e-09 1.1945288e-07]]\n"
     ]
    }
   ],
   "source": [
    "from sklearn.metrics import classification_report, confusion_matrix\n",
    "y_pred = model.predict(train_generator)\n",
    "print(y_pred)"
   ]
  },
  {
   "cell_type": "code",
   "execution_count": 78,
   "id": "d18bf3ac",
   "metadata": {},
   "outputs": [],
   "source": [
    "input_size = (28,28)\n",
    "channel = (3,)\n",
    "input_shape = input_size + channel\n",
    "labels = ['a','b','c','d','e','f','g','h','i','j','k','l','m','n','o','p','q','r','s','t','u','v','w','x','y','z']"
   ]
  },
  {
   "cell_type": "code",
   "execution_count": 79,
   "id": "13f5180a",
   "metadata": {},
   "outputs": [],
   "source": [
    "def preprocess(img,input_size):\n",
    "    nimg = img.convert('RGB').resize(input_size, resample= 0)\n",
    "    img_arr = (np.array(nimg))/255\n",
    "    return img_arr\n",
    "\n",
    "def reshape(imgs_arr):\n",
    "    return np.stack(imgs_arr, axis=0)"
   ]
  },
  {
   "cell_type": "code",
   "execution_count": 80,
   "id": "4ec54ce1",
   "metadata": {},
   "outputs": [],
   "source": [
    "from tensorflow.keras.models import load_model"
   ]
  },
  {
   "cell_type": "code",
   "execution_count": 81,
   "id": "c4fba264",
   "metadata": {},
   "outputs": [],
   "source": [
    "MODEL_PATH = 'BrailleNet.h5'\n",
    "model = load_model(MODEL_PATH,compile=False)"
   ]
  },
  {
   "cell_type": "code",
   "execution_count": 82,
   "id": "49d5e85d",
   "metadata": {},
   "outputs": [],
   "source": [
    "import requests\n",
    "from io import BytesIO\n",
    "\n",
    "from PIL import Image\n",
    "import numpy as np"
   ]
  },
  {
   "cell_type": "code",
   "execution_count": null,
   "id": "4805c9bc",
   "metadata": {},
   "outputs": [],
   "source": [
    "im = Image.open('images/n/n1.JPG3whs.jpg')\n",
    "X = preprocess(im,input_size)\n",
    "X = reshape([X])\n",
    "y = model.predict(X)\n",
    "\n",
    "print( labels[np.argmax(y)], np.max(y))"
   ]
  },
  {
   "cell_type": "code",
   "execution_count": 89,
   "id": "d6324467",
   "metadata": {},
   "outputs": [
    {
     "name": "stdout",
     "output_type": "stream",
     "text": [
      "WARNING:tensorflow:Model was constructed with shape (None, 28, 28, 3) for input KerasTensor(type_spec=TensorSpec(shape=(None, 28, 28, 3), dtype=tf.float32, name='input_1'), name='input_1', description=\"created by layer 'input_1'\"), but it was called on an input with incompatible shape (None, 28, 28).\n"
     ]
    },
    {
     "ename": "ValueError",
     "evalue": "in user code:\n\n    File \"c:\\users\\kevin maulana\\appdata\\local\\programs\\python\\python38\\lib\\site-packages\\keras\\engine\\training.py\", line 1621, in predict_function  *\n        return step_function(self, iterator)\n    File \"c:\\users\\kevin maulana\\appdata\\local\\programs\\python\\python38\\lib\\site-packages\\keras\\engine\\training.py\", line 1611, in step_function  **\n        outputs = model.distribute_strategy.run(run_step, args=(data,))\n    File \"c:\\users\\kevin maulana\\appdata\\local\\programs\\python\\python38\\lib\\site-packages\\keras\\engine\\training.py\", line 1604, in run_step  **\n        outputs = model.predict_step(data)\n    File \"c:\\users\\kevin maulana\\appdata\\local\\programs\\python\\python38\\lib\\site-packages\\keras\\engine\\training.py\", line 1572, in predict_step\n        return self(x, training=False)\n    File \"c:\\users\\kevin maulana\\appdata\\local\\programs\\python\\python38\\lib\\site-packages\\keras\\utils\\traceback_utils.py\", line 67, in error_handler\n        raise e.with_traceback(filtered_tb) from None\n    File \"c:\\users\\kevin maulana\\appdata\\local\\programs\\python\\python38\\lib\\site-packages\\keras\\engine\\input_spec.py\", line 213, in assert_input_compatibility\n        raise ValueError(f'Input {input_index} of layer \"{layer_name}\" '\n\n    ValueError: Exception encountered when calling layer \"model\" (type Functional).\n    \n    Input 0 of layer \"separable_conv2d\" is incompatible with the layer: expected ndim=4, found ndim=3. Full shape received: (None, 28, 28)\n    \n    Call arguments received:\n      • inputs=tf.Tensor(shape=(None, 28, 28), dtype=uint8)\n      • training=False\n      • mask=None\n",
     "output_type": "error",
     "traceback": [
      "\u001b[1;31m---------------------------------------------------------------------------\u001b[0m",
      "\u001b[1;31mValueError\u001b[0m                                Traceback (most recent call last)",
      "\u001b[1;32mC:\\Users\\KEVINM~1\\AppData\\Local\\Temp/ipykernel_1144/775800710.py\u001b[0m in \u001b[0;36m<module>\u001b[1;34m\u001b[0m\n\u001b[0;32m      5\u001b[0m \u001b[0mimg\u001b[0m \u001b[1;33m=\u001b[0m \u001b[0mcv2\u001b[0m\u001b[1;33m.\u001b[0m\u001b[0mresize\u001b[0m\u001b[1;33m(\u001b[0m\u001b[0mimg\u001b[0m\u001b[1;33m,\u001b[0m \u001b[1;33m(\u001b[0m\u001b[1;36m28\u001b[0m\u001b[1;33m,\u001b[0m \u001b[1;36m28\u001b[0m\u001b[1;33m)\u001b[0m\u001b[1;33m)\u001b[0m\u001b[1;33m\u001b[0m\u001b[1;33m\u001b[0m\u001b[0m\n\u001b[0;32m      6\u001b[0m \u001b[0mimg\u001b[0m \u001b[1;33m=\u001b[0m \u001b[0mnp\u001b[0m\u001b[1;33m.\u001b[0m\u001b[0mreshape\u001b[0m\u001b[1;33m(\u001b[0m\u001b[0mimg\u001b[0m\u001b[1;33m,\u001b[0m \u001b[1;33m[\u001b[0m\u001b[1;36m1\u001b[0m\u001b[1;33m,\u001b[0m \u001b[1;36m28\u001b[0m\u001b[1;33m,\u001b[0m \u001b[1;36m28\u001b[0m\u001b[1;33m]\u001b[0m\u001b[1;33m)\u001b[0m\u001b[1;33m\u001b[0m\u001b[1;33m\u001b[0m\u001b[0m\n\u001b[1;32m----> 7\u001b[1;33m \u001b[0mprint\u001b[0m\u001b[1;33m(\u001b[0m\u001b[0mnp\u001b[0m\u001b[1;33m.\u001b[0m\u001b[0margmax\u001b[0m\u001b[1;33m(\u001b[0m\u001b[0mmodel\u001b[0m\u001b[1;33m.\u001b[0m\u001b[0mpredict\u001b[0m\u001b[1;33m(\u001b[0m\u001b[0mimg\u001b[0m\u001b[1;33m)\u001b[0m\u001b[1;33m)\u001b[0m\u001b[1;33m)\u001b[0m\u001b[1;33m\u001b[0m\u001b[1;33m\u001b[0m\u001b[0m\n\u001b[0m",
      "\u001b[1;32mc:\\users\\kevin maulana\\appdata\\local\\programs\\python\\python38\\lib\\site-packages\\keras\\utils\\traceback_utils.py\u001b[0m in \u001b[0;36merror_handler\u001b[1;34m(*args, **kwargs)\u001b[0m\n\u001b[0;32m     65\u001b[0m     \u001b[1;32mexcept\u001b[0m \u001b[0mException\u001b[0m \u001b[1;32mas\u001b[0m \u001b[0me\u001b[0m\u001b[1;33m:\u001b[0m  \u001b[1;31m# pylint: disable=broad-except\u001b[0m\u001b[1;33m\u001b[0m\u001b[1;33m\u001b[0m\u001b[0m\n\u001b[0;32m     66\u001b[0m       \u001b[0mfiltered_tb\u001b[0m \u001b[1;33m=\u001b[0m \u001b[0m_process_traceback_frames\u001b[0m\u001b[1;33m(\u001b[0m\u001b[0me\u001b[0m\u001b[1;33m.\u001b[0m\u001b[0m__traceback__\u001b[0m\u001b[1;33m)\u001b[0m\u001b[1;33m\u001b[0m\u001b[1;33m\u001b[0m\u001b[0m\n\u001b[1;32m---> 67\u001b[1;33m       \u001b[1;32mraise\u001b[0m \u001b[0me\u001b[0m\u001b[1;33m.\u001b[0m\u001b[0mwith_traceback\u001b[0m\u001b[1;33m(\u001b[0m\u001b[0mfiltered_tb\u001b[0m\u001b[1;33m)\u001b[0m \u001b[1;32mfrom\u001b[0m \u001b[1;32mNone\u001b[0m\u001b[1;33m\u001b[0m\u001b[1;33m\u001b[0m\u001b[0m\n\u001b[0m\u001b[0;32m     68\u001b[0m     \u001b[1;32mfinally\u001b[0m\u001b[1;33m:\u001b[0m\u001b[1;33m\u001b[0m\u001b[1;33m\u001b[0m\u001b[0m\n\u001b[0;32m     69\u001b[0m       \u001b[1;32mdel\u001b[0m \u001b[0mfiltered_tb\u001b[0m\u001b[1;33m\u001b[0m\u001b[1;33m\u001b[0m\u001b[0m\n",
      "\u001b[1;32mc:\\users\\kevin maulana\\appdata\\local\\programs\\python\\python38\\lib\\site-packages\\tensorflow\\python\\framework\\func_graph.py\u001b[0m in \u001b[0;36mautograph_handler\u001b[1;34m(*args, **kwargs)\u001b[0m\n\u001b[0;32m   1127\u001b[0m           \u001b[1;32mexcept\u001b[0m \u001b[0mException\u001b[0m \u001b[1;32mas\u001b[0m \u001b[0me\u001b[0m\u001b[1;33m:\u001b[0m  \u001b[1;31m# pylint:disable=broad-except\u001b[0m\u001b[1;33m\u001b[0m\u001b[1;33m\u001b[0m\u001b[0m\n\u001b[0;32m   1128\u001b[0m             \u001b[1;32mif\u001b[0m \u001b[0mhasattr\u001b[0m\u001b[1;33m(\u001b[0m\u001b[0me\u001b[0m\u001b[1;33m,\u001b[0m \u001b[1;34m\"ag_error_metadata\"\u001b[0m\u001b[1;33m)\u001b[0m\u001b[1;33m:\u001b[0m\u001b[1;33m\u001b[0m\u001b[1;33m\u001b[0m\u001b[0m\n\u001b[1;32m-> 1129\u001b[1;33m               \u001b[1;32mraise\u001b[0m \u001b[0me\u001b[0m\u001b[1;33m.\u001b[0m\u001b[0mag_error_metadata\u001b[0m\u001b[1;33m.\u001b[0m\u001b[0mto_exception\u001b[0m\u001b[1;33m(\u001b[0m\u001b[0me\u001b[0m\u001b[1;33m)\u001b[0m\u001b[1;33m\u001b[0m\u001b[1;33m\u001b[0m\u001b[0m\n\u001b[0m\u001b[0;32m   1130\u001b[0m             \u001b[1;32melse\u001b[0m\u001b[1;33m:\u001b[0m\u001b[1;33m\u001b[0m\u001b[1;33m\u001b[0m\u001b[0m\n\u001b[0;32m   1131\u001b[0m               \u001b[1;32mraise\u001b[0m\u001b[1;33m\u001b[0m\u001b[1;33m\u001b[0m\u001b[0m\n",
      "\u001b[1;31mValueError\u001b[0m: in user code:\n\n    File \"c:\\users\\kevin maulana\\appdata\\local\\programs\\python\\python38\\lib\\site-packages\\keras\\engine\\training.py\", line 1621, in predict_function  *\n        return step_function(self, iterator)\n    File \"c:\\users\\kevin maulana\\appdata\\local\\programs\\python\\python38\\lib\\site-packages\\keras\\engine\\training.py\", line 1611, in step_function  **\n        outputs = model.distribute_strategy.run(run_step, args=(data,))\n    File \"c:\\users\\kevin maulana\\appdata\\local\\programs\\python\\python38\\lib\\site-packages\\keras\\engine\\training.py\", line 1604, in run_step  **\n        outputs = model.predict_step(data)\n    File \"c:\\users\\kevin maulana\\appdata\\local\\programs\\python\\python38\\lib\\site-packages\\keras\\engine\\training.py\", line 1572, in predict_step\n        return self(x, training=False)\n    File \"c:\\users\\kevin maulana\\appdata\\local\\programs\\python\\python38\\lib\\site-packages\\keras\\utils\\traceback_utils.py\", line 67, in error_handler\n        raise e.with_traceback(filtered_tb) from None\n    File \"c:\\users\\kevin maulana\\appdata\\local\\programs\\python\\python38\\lib\\site-packages\\keras\\engine\\input_spec.py\", line 213, in assert_input_compatibility\n        raise ValueError(f'Input {input_index} of layer \"{layer_name}\" '\n\n    ValueError: Exception encountered when calling layer \"model\" (type Functional).\n    \n    Input 0 of layer \"separable_conv2d\" is incompatible with the layer: expected ndim=4, found ndim=3. Full shape received: (None, 28, 28)\n    \n    Call arguments received:\n      • inputs=tf.Tensor(shape=(None, 28, 28), dtype=uint8)\n      • training=False\n      • mask=None\n"
     ]
    }
   ],
   "source": [
    "import cv2\n",
    "import numpy as np\n",
    "\n",
    "img = cv2.imread(\"images/n/n1.JPG3whs.jpg\",0)\n",
    "img = cv2.resize(img, (28, 28, ))\n",
    "img = np.reshape(img, [1, 28, 28, 3])\n",
    "print(np.argmax(model.predict(img)))"
   ]
  },
  {
   "cell_type": "code",
   "execution_count": 68,
   "id": "6d46f589",
   "metadata": {},
   "outputs": [
    {
     "name": "stderr",
     "output_type": "stream",
     "text": [
      "C:\\Users\\KEVINM~1\\AppData\\Local\\Temp/ipykernel_1144/2705960926.py:4: UserWarning: `Model.predict_generator` is deprecated and will be removed in a future version. Please use `Model.predict`, which supports generators.\n",
      "  Y_pred = model.predict_generator(val_generator, num_of_test_samples// batch_size+1)\n"
     ]
    },
    {
     "name": "stdout",
     "output_type": "stream",
     "text": [
      "WARNING:tensorflow:5 out of the last 11 calls to <function Model.make_predict_function.<locals>.predict_function at 0x000001CD82C335E0> triggered tf.function retracing. Tracing is expensive and the excessive number of tracings could be due to (1) creating @tf.function repeatedly in a loop, (2) passing tensors with different shapes, (3) passing Python objects instead of tensors. For (1), please define your @tf.function outside of the loop. For (2), @tf.function has experimental_relax_shapes=True option that relaxes argument shapes that can avoid unnecessary retracing. For (3), please refer to https://www.tensorflow.org/guide/function#controlling_retracing and https://www.tensorflow.org/api_docs/python/tf/function for  more details.\n",
      "Confusion Matrix\n",
      "[[0 1 0 0 0 0 0 0 0 0 0 0 0 0 0 0 2 2 1 2 0 1 0 1 0 2]\n",
      " [2 0 2 0 0 0 0 0 0 0 0 1 1 0 2 0 0 1 1 0 0 1 1 0 0 0]\n",
      " [0 0 0 3 1 1 0 1 1 0 0 1 0 0 0 2 0 0 0 0 0 1 0 0 1 0]\n",
      " [0 3 0 1 0 1 0 1 0 0 1 0 0 1 0 0 0 1 0 0 1 0 0 2 0 0]\n",
      " [1 0 0 1 0 1 1 1 0 0 1 0 0 1 0 1 1 0 0 0 0 2 1 0 0 0]\n",
      " [0 0 0 0 0 2 0 0 0 1 1 2 0 0 1 1 0 1 0 0 2 0 0 0 1 0]\n",
      " [0 0 1 1 0 1 0 1 1 1 1 0 0 0 1 1 0 0 0 0 0 0 0 0 1 2]\n",
      " [0 0 1 2 2 0 0 0 0 0 2 1 1 0 0 0 0 0 0 1 0 0 1 0 1 0]\n",
      " [0 1 0 0 0 0 0 1 1 1 1 3 1 0 0 0 0 0 0 1 1 1 0 0 0 0]\n",
      " [0 0 1 0 0 0 1 0 0 1 0 0 1 1 0 0 2 0 1 0 1 2 1 0 0 0]\n",
      " [0 1 0 1 0 0 1 0 0 0 0 1 0 0 1 0 0 2 0 0 1 1 2 0 0 1]\n",
      " [0 0 0 1 2 0 0 1 1 1 1 0 1 0 1 0 0 0 0 0 0 0 0 1 0 2]\n",
      " [1 1 0 0 0 1 1 0 0 0 1 0 0 1 1 1 1 0 1 1 0 0 0 1 0 0]\n",
      " [0 1 0 0 0 0 0 1 1 1 0 1 0 1 1 1 0 1 1 0 1 0 0 0 1 0]\n",
      " [0 0 2 0 0 0 0 0 0 1 0 0 2 1 1 0 2 0 0 0 0 0 0 1 1 1]\n",
      " [1 0 1 0 1 1 0 0 0 0 0 0 0 0 0 1 0 1 0 0 0 1 2 1 2 0]\n",
      " [1 0 0 1 0 1 0 0 0 0 0 1 0 0 0 1 1 0 0 1 2 1 0 1 1 0]\n",
      " [0 0 1 1 0 0 1 1 1 1 0 0 0 0 0 0 0 0 2 1 0 0 0 2 0 1]\n",
      " [0 1 0 0 1 0 1 2 1 1 0 0 0 0 0 0 1 0 1 0 0 0 1 0 0 2]\n",
      " [0 0 0 1 2 0 2 0 2 0 0 0 0 0 3 0 1 0 0 0 1 0 0 0 0 0]\n",
      " [1 1 0 0 0 1 1 0 2 2 0 0 0 1 0 0 0 0 1 0 0 0 2 0 0 0]\n",
      " [1 0 1 0 0 0 1 0 1 0 1 0 0 1 0 0 0 0 0 1 1 0 2 1 1 0]\n",
      " [0 1 0 1 1 0 0 0 0 1 1 1 0 1 2 0 0 0 2 0 0 0 1 0 0 0]\n",
      " [0 0 0 0 1 1 1 1 0 0 1 1 1 0 0 1 0 0 0 2 0 1 0 1 0 0]\n",
      " [3 0 0 0 0 1 1 2 0 0 0 0 0 0 0 0 1 1 0 1 1 0 0 0 1 0]\n",
      " [2 1 0 0 0 0 0 0 1 0 0 0 2 0 1 0 1 1 0 1 0 0 1 0 1 0]]\n",
      "Classification Report\n",
      "              precision    recall  f1-score   support\n",
      "\n",
      "           a       0.00      0.00      0.00        12\n",
      "           b       0.00      0.00      0.00        12\n",
      "           c       0.00      0.00      0.00        12\n",
      "           d       0.07      0.08      0.08        12\n",
      "           e       0.00      0.00      0.00        12\n",
      "           f       0.17      0.17      0.17        12\n",
      "           g       0.00      0.00      0.00        12\n",
      "           h       0.00      0.00      0.00        12\n",
      "           i       0.08      0.08      0.08        12\n",
      "           j       0.08      0.08      0.08        12\n",
      "           k       0.00      0.00      0.00        12\n",
      "           l       0.00      0.00      0.00        12\n",
      "           m       0.00      0.00      0.00        12\n",
      "           n       0.11      0.08      0.10        12\n",
      "           o       0.07      0.08      0.07        12\n",
      "           p       0.10      0.08      0.09        12\n",
      "           q       0.08      0.08      0.08        12\n",
      "           r       0.00      0.00      0.00        12\n",
      "           s       0.09      0.08      0.09        12\n",
      "           t       0.00      0.00      0.00        12\n",
      "           u       0.00      0.00      0.00        12\n",
      "           v       0.00      0.00      0.00        12\n",
      "           w       0.07      0.08      0.07        12\n",
      "           x       0.08      0.08      0.08        12\n",
      "           y       0.08      0.08      0.08        12\n",
      "           z       0.00      0.00      0.00        12\n",
      "\n",
      "    accuracy                           0.04       312\n",
      "   macro avg       0.04      0.04      0.04       312\n",
      "weighted avg       0.04      0.04      0.04       312\n",
      "\n"
     ]
    }
   ],
   "source": [
    "from sklearn.metrics import classification_report, confusion_matrix\n",
    "batch_size = 32\n",
    "num_of_test_samples = 312\n",
    "Y_pred = model.predict_generator(val_generator, num_of_test_samples// batch_size+1)\n",
    "y_pred = np.argmax(Y_pred, axis=1)\n",
    "print('Confusion Matrix')\n",
    "print(confusion_matrix(val_generator.classes, y_pred))\n",
    "print('Classification Report')\n",
    "target_names = ['a', 'b', 'c','d','e','f','g','h','i','j','k','l','m','n','o','p','q','r','s','t','u','v','w','x','y','z']\n",
    "print(classification_report(val_generator.classes, y_pred, target_names=target_names))"
   ]
  },
  {
   "cell_type": "code",
   "execution_count": null,
   "id": "8f10cc8e",
   "metadata": {},
   "outputs": [],
   "source": []
  },
  {
   "cell_type": "code",
   "execution_count": null,
   "id": "b1ce125b",
   "metadata": {},
   "outputs": [],
   "source": [
    "from tensorflow.keras.preprocessing import image\n",
    "img=image.load_img('D:/My Document/data kevin/Project Skripsi/Braille Dataset/Braille Dataset/a1.JPG0dim.jpg')"
   ]
  },
  {
   "cell_type": "code",
   "execution_count": null,
   "id": "f67f7cf5",
   "metadata": {},
   "outputs": [],
   "source": [
    "plt.imshow(img)"
   ]
  },
  {
   "cell_type": "code",
   "execution_count": null,
   "id": "8f899cf7",
   "metadata": {},
   "outputs": [],
   "source": [
    "x=image.img_to_array(img)\n",
    "x"
   ]
  },
  {
   "cell_type": "code",
   "execution_count": null,
   "id": "80ecb7ea",
   "metadata": {},
   "outputs": [],
   "source": [
    "x.shape"
   ]
  },
  {
   "cell_type": "code",
   "execution_count": null,
   "id": "eefabfcf",
   "metadata": {},
   "outputs": [],
   "source": [
    "x=np.expand_dims(x,axis=0)\n",
    "model.predict(x)"
   ]
  },
  {
   "cell_type": "code",
   "execution_count": null,
   "id": "831f884a",
   "metadata": {},
   "outputs": [],
   "source": [
    "a=np.argmax(model.predict(x), axis=1)\n",
    "a"
   ]
  },
  {
   "cell_type": "code",
   "execution_count": null,
   "id": "a417011e",
   "metadata": {},
   "outputs": [],
   "source": []
  }
 ],
 "metadata": {
  "kernelspec": {
   "display_name": "Python 3 (ipykernel)",
   "language": "python",
   "name": "python3"
  },
  "language_info": {
   "codemirror_mode": {
    "name": "ipython",
    "version": 3
   },
   "file_extension": ".py",
   "mimetype": "text/x-python",
   "name": "python",
   "nbconvert_exporter": "python",
   "pygments_lexer": "ipython3",
   "version": "3.8.0"
  }
 },
 "nbformat": 4,
 "nbformat_minor": 5
}
