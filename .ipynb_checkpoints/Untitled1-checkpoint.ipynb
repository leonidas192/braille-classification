{
 "cells": [
  {
   "cell_type": "code",
   "execution_count": 1,
   "id": "3e6d330f",
   "metadata": {},
   "outputs": [],
   "source": [
    "import numpy as np\n",
    "import pandas as pd\n",
    "import matplotlib.pyplot as plt\n",
    "import seaborn as sns\n",
    "import tensorflow as tf\n",
    "from tensorflow import keras\n",
    "from pathlib import Path\n",
    "from sklearn.preprocessing import LabelEncoder\n",
    "import PIL\n",
    "import cv2\n",
    "import os"
   ]
  },
  {
   "cell_type": "code",
   "execution_count": 2,
   "id": "1baa488a",
   "metadata": {},
   "outputs": [],
   "source": [
    "image_dir = Path('D:\\My Document\\data kevin\\Project Skripsi\\Braille Dataset\\Braille Dataset')"
   ]
  },
  {
   "cell_type": "code",
   "execution_count": 3,
   "id": "a9a3ad57",
   "metadata": {},
   "outputs": [],
   "source": [
    "dir_list = list(image_dir.glob('*.jpg'))"
   ]
  },
  {
   "cell_type": "code",
   "execution_count": 4,
   "id": "fce5cea2",
   "metadata": {},
   "outputs": [
    {
     "data": {
      "text/plain": [
       "1560"
      ]
     },
     "execution_count": 4,
     "metadata": {},
     "output_type": "execute_result"
    }
   ],
   "source": [
    "image_count = len(dir_list)\n",
    "image_count"
   ]
  },
  {
   "cell_type": "code",
   "execution_count": 5,
   "id": "3ebc8a62",
   "metadata": {},
   "outputs": [],
   "source": [
    "name_list = []\n",
    "for i in dir_list:\n",
    "    name_list.append(os.path.basename(i)[0])"
   ]
  },
  {
   "cell_type": "code",
   "execution_count": 6,
   "id": "19afb8e5",
   "metadata": {},
   "outputs": [],
   "source": [
    "#opens images and puts into a list\n",
    "images = []\n",
    "for dir in dir_list:\n",
    "    I = cv2.imread(str(dir))\n",
    "    images.append(I)"
   ]
  },
  {
   "cell_type": "code",
   "execution_count": 7,
   "id": "df5332da",
   "metadata": {},
   "outputs": [],
   "source": [
    "#turn both lists in numpy arrays\n",
    "images_list = np.array(images)\n",
    "name_list = np.array(name_list).T"
   ]
  },
  {
   "cell_type": "code",
   "execution_count": 8,
   "id": "9965cbca",
   "metadata": {},
   "outputs": [],
   "source": [
    "#encodes name_list and normalizes image_list\n",
    "le = LabelEncoder()\n",
    "name_list = le.fit_transform(name_list)\n",
    "images_list = images_list / 255.0"
   ]
  },
  {
   "cell_type": "code",
   "execution_count": 9,
   "id": "3ee9da8c",
   "metadata": {},
   "outputs": [
    {
     "data": {
      "text/plain": [
       "(1560, 28, 28, 3)"
      ]
     },
     "execution_count": 9,
     "metadata": {},
     "output_type": "execute_result"
    }
   ],
   "source": [
    "images_list.shape"
   ]
  },
  {
   "cell_type": "code",
   "execution_count": 10,
   "id": "02d4e7ad",
   "metadata": {},
   "outputs": [
    {
     "data": {
      "text/plain": [
       "<matplotlib.image.AxesImage at 0x218bd1acdc0>"
      ]
     },
     "execution_count": 10,
     "metadata": {},
     "output_type": "execute_result"
    },
    {
     "data": {
      "image/png": "[encoded data removed]",
      "text/plain": [
       "<Figure size 432x288 with 1 Axes>"
      ]
     },
     "metadata": {
      "needs_background": "light"
     },
     "output_type": "display_data"
    }
   ],
   "source": [
    "plt.imshow(images_list[0])"
   ]
  },
  {
   "cell_type": "code",
   "execution_count": 11,
   "id": "c7612ccf",
   "metadata": {},
   "outputs": [
    {
     "data": {
      "text/plain": [
       "(1560,)"
      ]
     },
     "execution_count": 11,
     "metadata": {},
     "output_type": "execute_result"
    }
   ],
   "source": [
    "name_list.shape"
   ]
  },
  {
   "cell_type": "code",
   "execution_count": 12,
   "id": "bef34a90",
   "metadata": {},
   "outputs": [],
   "source": [
    "from sklearn.model_selection import train_test_split\n",
    "X_train, X_test, y_train, y_test = train_test_split(images_list, name_list, test_size=0.2, random_state=42)"
   ]
  },
  {
   "cell_type": "code",
   "execution_count": null,
   "id": "ce2a6175",
   "metadata": {},
   "outputs": [],
   "source": []
  },
  {
   "cell_type": "code",
   "execution_count": 40,
   "id": "6baff2a2",
   "metadata": {},
   "outputs": [],
   "source": [
    "from keras import backend as K\n",
    "from keras import layers as L\n",
    "from keras.models import Model,load_model\n",
    "from keras.regularizers import l2\n",
    "from keras import regularizers\n",
    "from keras.callbacks import ModelCheckpoint,ReduceLROnPlateau,EarlyStopping\n",
    "\n",
    "K.clear_session()\n",
    "\n",
    "model_ckpt = ModelCheckpoint('BrailleNet.h5',save_best_only=True)\n",
    "reduce_lr = ReduceLROnPlateau(patience=8,verbose=0)\n",
    "early_stop = EarlyStopping(patience=15,verbose=1)\n",
    "\n",
    "entry = L.Input(shape=(28,28,3))\n",
    "x = L.Conv2D(128,(3,3),activation='relu',kernel_regularizer=regularizers.l2(l=0.01))(entry)\n",
    "x = L.MaxPooling2D((2,2))(x)\n",
    "#x = L.BatchNormalization()(x)\n",
    "\n",
    "x = L.Conv2D(256,(3,3),activation='relu',kernel_regularizer=regularizers.l2(l=0.01))(x)\n",
    "x = L.MaxPooling2D((2,2))(x)\n",
    "#x = L.BatchNormalization()(x)\n",
    "\n",
    "#x = L.Conv2D(256,(2,2),activation='relu')(x)\n",
    "x = L.Flatten()(x)\n",
    "x = L.Dropout(0.2)(x)\n",
    "x = L.Dense(512)(x)\n",
    "x = L.ReLU()(x)\n",
    "x = L.Dense(256)(x)\n",
    "x = L.ReLU()(x)\n",
    "x = L.Dense(26,activation='softmax')(x)\n",
    "\n",
    "#model = Model(entry,x)\n",
    "##opt = tf.keras.optimizers.Adam(learning_rate=0.0001)\n",
    "#model.compile(optimizer=\"Adam\", loss='categorical_crossentropy', metrics=[\"accuracy\"])\n",
    "\n",
    "#history = model.fit(train_generator,\n",
    "#                              validation_data=val_generator,\n",
    "#                              epochs=100,\n",
    "#                              callbacks=[model_ckpt,reduce_lr,early_stop],\n",
    "#                              verbose=1)"
   ]
  },
  {
   "cell_type": "code",
   "execution_count": 14,
   "id": "61a4aa63",
   "metadata": {},
   "outputs": [
    {
     "ename": "SyntaxError",
     "evalue": "EOL while scanning string literal (Temp/ipykernel_15400/3132420345.py, line 19)",
     "output_type": "error",
     "traceback": [
      "\u001b[1;36m  File \u001b[1;32m\"C:\\Users\\KEVINM~1\\AppData\\Local\\Temp/ipykernel_15400/3132420345.py\"\u001b[1;36m, line \u001b[1;32m19\u001b[0m\n\u001b[1;33m    \"\"\"\"\u001b[0m\n\u001b[1;37m        \n^\u001b[0m\n\u001b[1;31mSyntaxError\u001b[0m\u001b[1;31m:\u001b[0m EOL while scanning string literal\n"
     ]
    }
   ],
   "source": [
    "\"\"\"\"\n",
    "model = tf.keras.models.Sequential([\n",
    "    tf.keras.layers.Conv2D(64, (3, 3), activation='relu', input_shape=(28, 28, 3)),\n",
    "    tf.keras.layers.BatchNormalization(),\n",
    "    tf.keras.layers.MaxPooling2D(3, 3),\n",
    "    \n",
    "    tf.keras.layers.Conv2D(32, (3, 3), activation='relu'),\n",
    "    tf.keras.layers.BatchNormalization(),\n",
    "    tf.keras.layers.MaxPooling2D(3, 3),\n",
    "    \n",
    "    tf.keras.layers.Conv2D(32, (3, 3), activation='relu'),\n",
    "    tf.keras.layers.BatchNormalization(),\n",
    "    tf.keras.layers.MaxPooling2D(3, 3),\n",
    "    \n",
    "    tf.keras.layers.Flatten(),\n",
    "    tf.keras.layers.Dense(128, activation=tf.nn.relu),\n",
    "    tf.keras.layers.Dropout(0.3),\n",
    "    tf.keras.layers.Dense(26, activation=tf.nn.softmax)])\n",
    "\"\"\"\""
   ]
  },
  {
   "cell_type": "code",
   "execution_count": 41,
   "id": "5e22c055",
   "metadata": {},
   "outputs": [],
   "source": [
    "from keras.models import Model,load_model\n"
   ]
  },
  {
   "cell_type": "code",
   "execution_count": 42,
   "id": "e6a2e5ba",
   "metadata": {},
   "outputs": [],
   "source": [
    "from keras.callbacks import EarlyStopping"
   ]
  },
  {
   "cell_type": "code",
   "execution_count": 43,
   "id": "caa301d0",
   "metadata": {
    "scrolled": true
   },
   "outputs": [
    {
     "name": "stdout",
     "output_type": "stream",
     "text": [
      "Epoch 1/100\n",
      "39/39 [==============================] - 6s 143ms/step - loss: 4.8490 - sparse_categorical_accuracy: 0.0409 - val_loss: 4.6580 - val_sparse_categorical_accuracy: 0.0256\n",
      "Epoch 2/100\n",
      "39/39 [==============================] - 5s 139ms/step - loss: 4.4674 - sparse_categorical_accuracy: 0.1474 - val_loss: 4.2707 - val_sparse_categorical_accuracy: 0.1987\n",
      "Epoch 3/100\n",
      "39/39 [==============================] - 6s 148ms/step - loss: 3.9563 - sparse_categorical_accuracy: 0.2965 - val_loss: 3.5816 - val_sparse_categorical_accuracy: 0.4071\n",
      "Epoch 4/100\n",
      "39/39 [==============================] - 6s 150ms/step - loss: 3.0477 - sparse_categorical_accuracy: 0.4976 - val_loss: 2.6856 - val_sparse_categorical_accuracy: 0.5769\n",
      "Epoch 5/100\n",
      "39/39 [==============================] - 6s 145ms/step - loss: 2.3903 - sparse_categorical_accuracy: 0.6122 - val_loss: 2.2960 - val_sparse_categorical_accuracy: 0.6186\n",
      "Epoch 6/100\n",
      "39/39 [==============================] - 6s 149ms/step - loss: 2.0837 - sparse_categorical_accuracy: 0.6410 - val_loss: 2.1746 - val_sparse_categorical_accuracy: 0.6218\n",
      "Epoch 7/100\n",
      "39/39 [==============================] - 6s 145ms/step - loss: 1.8683 - sparse_categorical_accuracy: 0.6835 - val_loss: 2.0381 - val_sparse_categorical_accuracy: 0.6282\n",
      "Epoch 8/100\n",
      "39/39 [==============================] - 6s 147ms/step - loss: 1.6715 - sparse_categorical_accuracy: 0.7171 - val_loss: 1.8455 - val_sparse_categorical_accuracy: 0.6442\n",
      "Epoch 9/100\n",
      "39/39 [==============================] - 6s 147ms/step - loss: 1.5302 - sparse_categorical_accuracy: 0.7388 - val_loss: 1.7919 - val_sparse_categorical_accuracy: 0.6442\n",
      "Epoch 10/100\n",
      "39/39 [==============================] - 5s 140ms/step - loss: 1.4006 - sparse_categorical_accuracy: 0.7564 - val_loss: 1.7095 - val_sparse_categorical_accuracy: 0.6763\n",
      "Epoch 11/100\n",
      "39/39 [==============================] - 5s 136ms/step - loss: 1.3130 - sparse_categorical_accuracy: 0.7756 - val_loss: 1.6431 - val_sparse_categorical_accuracy: 0.6731\n",
      "Epoch 12/100\n",
      "39/39 [==============================] - 5s 137ms/step - loss: 1.2126 - sparse_categorical_accuracy: 0.7949 - val_loss: 1.5792 - val_sparse_categorical_accuracy: 0.6667\n",
      "Epoch 13/100\n",
      "39/39 [==============================] - 5s 140ms/step - loss: 1.1263 - sparse_categorical_accuracy: 0.8093 - val_loss: 1.4660 - val_sparse_categorical_accuracy: 0.7244\n",
      "Epoch 14/100\n",
      "39/39 [==============================] - 5s 139ms/step - loss: 1.0496 - sparse_categorical_accuracy: 0.8341 - val_loss: 1.3900 - val_sparse_categorical_accuracy: 0.7468\n",
      "Epoch 15/100\n",
      "39/39 [==============================] - 5s 139ms/step - loss: 0.9792 - sparse_categorical_accuracy: 0.8534 - val_loss: 1.3730 - val_sparse_categorical_accuracy: 0.7564\n",
      "Epoch 16/100\n",
      "39/39 [==============================] - 5s 140ms/step - loss: 0.9160 - sparse_categorical_accuracy: 0.8694 - val_loss: 1.3271 - val_sparse_categorical_accuracy: 0.7308\n",
      "Epoch 17/100\n",
      "39/39 [==============================] - 5s 136ms/step - loss: 0.8421 - sparse_categorical_accuracy: 0.8838 - val_loss: 1.2796 - val_sparse_categorical_accuracy: 0.7853\n",
      "Epoch 18/100\n",
      "39/39 [==============================] - 5s 138ms/step - loss: 0.7990 - sparse_categorical_accuracy: 0.8958 - val_loss: 1.2555 - val_sparse_categorical_accuracy: 0.7821\n",
      "Epoch 19/100\n",
      "39/39 [==============================] - 5s 140ms/step - loss: 0.7677 - sparse_categorical_accuracy: 0.8998 - val_loss: 1.1856 - val_sparse_categorical_accuracy: 0.8045\n",
      "Epoch 20/100\n",
      "39/39 [==============================] - 5s 137ms/step - loss: 0.7265 - sparse_categorical_accuracy: 0.9111 - val_loss: 1.1854 - val_sparse_categorical_accuracy: 0.7981\n",
      "Epoch 21/100\n",
      "39/39 [==============================] - 5s 138ms/step - loss: 0.6736 - sparse_categorical_accuracy: 0.9263 - val_loss: 1.1778 - val_sparse_categorical_accuracy: 0.7949\n",
      "Epoch 22/100\n",
      "39/39 [==============================] - 5s 139ms/step - loss: 0.6513 - sparse_categorical_accuracy: 0.9279 - val_loss: 1.1432 - val_sparse_categorical_accuracy: 0.8141\n",
      "Epoch 23/100\n",
      "39/39 [==============================] - 5s 141ms/step - loss: 0.6184 - sparse_categorical_accuracy: 0.9375 - val_loss: 1.0984 - val_sparse_categorical_accuracy: 0.8077\n",
      "Epoch 24/100\n",
      "39/39 [==============================] - 5s 136ms/step - loss: 0.6055 - sparse_categorical_accuracy: 0.9335 - val_loss: 1.1889 - val_sparse_categorical_accuracy: 0.8013\n",
      "Epoch 25/100\n",
      "39/39 [==============================] - 5s 137ms/step - loss: 0.5757 - sparse_categorical_accuracy: 0.9471 - val_loss: 1.1147 - val_sparse_categorical_accuracy: 0.8237\n",
      "Epoch 26/100\n",
      "39/39 [==============================] - 5s 137ms/step - loss: 0.5429 - sparse_categorical_accuracy: 0.9471 - val_loss: 1.0731 - val_sparse_categorical_accuracy: 0.8333\n",
      "Epoch 27/100\n",
      "39/39 [==============================] - 5s 137ms/step - loss: 0.5034 - sparse_categorical_accuracy: 0.9623 - val_loss: 1.0822 - val_sparse_categorical_accuracy: 0.8269\n",
      "Epoch 28/100\n",
      "39/39 [==============================] - 5s 136ms/step - loss: 0.4871 - sparse_categorical_accuracy: 0.9655 - val_loss: 1.0192 - val_sparse_categorical_accuracy: 0.8365\n",
      "Epoch 29/100\n",
      "39/39 [==============================] - 5s 138ms/step - loss: 0.4774 - sparse_categorical_accuracy: 0.9688 - val_loss: 1.0714 - val_sparse_categorical_accuracy: 0.8237\n",
      "Epoch 30/100\n",
      "39/39 [==============================] - 6s 142ms/step - loss: 0.4588 - sparse_categorical_accuracy: 0.9704 - val_loss: 1.0427 - val_sparse_categorical_accuracy: 0.8333\n",
      "Epoch 31/100\n",
      "39/39 [==============================] - 5s 136ms/step - loss: 0.4446 - sparse_categorical_accuracy: 0.9752 - val_loss: 1.0573 - val_sparse_categorical_accuracy: 0.8269\n",
      "Epoch 32/100\n",
      "39/39 [==============================] - 5s 137ms/step - loss: 0.4342 - sparse_categorical_accuracy: 0.9728 - val_loss: 0.9795 - val_sparse_categorical_accuracy: 0.8429\n",
      "Epoch 33/100\n",
      "39/39 [==============================] - 5s 135ms/step - loss: 0.4119 - sparse_categorical_accuracy: 0.9792 - val_loss: 1.0331 - val_sparse_categorical_accuracy: 0.8397\n",
      "Epoch 34/100\n",
      "39/39 [==============================] - 5s 137ms/step - loss: 0.3995 - sparse_categorical_accuracy: 0.9816 - val_loss: 0.9752 - val_sparse_categorical_accuracy: 0.8365\n",
      "Epoch 35/100\n",
      "39/39 [==============================] - 5s 137ms/step - loss: 0.3929 - sparse_categorical_accuracy: 0.9776 - val_loss: 0.9984 - val_sparse_categorical_accuracy: 0.8301\n",
      "Epoch 36/100\n",
      "39/39 [==============================] - 5s 139ms/step - loss: 0.3802 - sparse_categorical_accuracy: 0.9808 - val_loss: 0.9699 - val_sparse_categorical_accuracy: 0.8462\n",
      "Epoch 37/100\n",
      "39/39 [==============================] - 6s 150ms/step - loss: 0.3699 - sparse_categorical_accuracy: 0.9824 - val_loss: 0.9570 - val_sparse_categorical_accuracy: 0.8333\n",
      "Epoch 38/100\n",
      "39/39 [==============================] - 6s 148ms/step - loss: 0.3582 - sparse_categorical_accuracy: 0.9848 - val_loss: 0.9652 - val_sparse_categorical_accuracy: 0.8397\n",
      "Epoch 39/100\n",
      "39/39 [==============================] - 6s 155ms/step - loss: 0.3524 - sparse_categorical_accuracy: 0.9824 - val_loss: 0.9712 - val_sparse_categorical_accuracy: 0.8301\n",
      "Epoch 40/100\n",
      "39/39 [==============================] - 6s 165ms/step - loss: 0.3452 - sparse_categorical_accuracy: 0.9872 - val_loss: 0.9385 - val_sparse_categorical_accuracy: 0.8429\n",
      "Epoch 41/100\n",
      "39/39 [==============================] - 5s 137ms/step - loss: 0.3343 - sparse_categorical_accuracy: 0.9872 - val_loss: 0.9765 - val_sparse_categorical_accuracy: 0.8590\n",
      "Epoch 42/100\n",
      "39/39 [==============================] - 6s 147ms/step - loss: 0.3198 - sparse_categorical_accuracy: 0.9928 - val_loss: 0.9434 - val_sparse_categorical_accuracy: 0.8462\n",
      "Epoch 43/100\n",
      "39/39 [==============================] - 6s 153ms/step - loss: 0.3181 - sparse_categorical_accuracy: 0.9896 - val_loss: 0.9325 - val_sparse_categorical_accuracy: 0.8558\n",
      "Epoch 44/100\n",
      "39/39 [==============================] - 6s 142ms/step - loss: 0.3158 - sparse_categorical_accuracy: 0.9880 - val_loss: 1.0171 - val_sparse_categorical_accuracy: 0.8333\n",
      "Epoch 45/100\n",
      "39/39 [==============================] - 6s 147ms/step - loss: 0.3038 - sparse_categorical_accuracy: 0.9928 - val_loss: 0.9465 - val_sparse_categorical_accuracy: 0.8526\n",
      "Epoch 46/100\n"
     ]
    },
    {
     "name": "stdout",
     "output_type": "stream",
     "text": [
      "39/39 [==============================] - 6s 154ms/step - loss: 0.2978 - sparse_categorical_accuracy: 0.9904 - val_loss: 0.9334 - val_sparse_categorical_accuracy: 0.8526\n",
      "Epoch 47/100\n",
      "39/39 [==============================] - 7s 174ms/step - loss: 0.2934 - sparse_categorical_accuracy: 0.9880 - val_loss: 0.9212 - val_sparse_categorical_accuracy: 0.8590\n",
      "Epoch 48/100\n",
      "39/39 [==============================] - 6s 163ms/step - loss: 0.2840 - sparse_categorical_accuracy: 0.9912 - val_loss: 0.9135 - val_sparse_categorical_accuracy: 0.8462\n",
      "Epoch 49/100\n",
      "39/39 [==============================] - 6s 156ms/step - loss: 0.2816 - sparse_categorical_accuracy: 0.9888 - val_loss: 0.9271 - val_sparse_categorical_accuracy: 0.8494\n",
      "Epoch 50/100\n",
      "39/39 [==============================] - 6s 149ms/step - loss: 0.2754 - sparse_categorical_accuracy: 0.9936 - val_loss: 0.9314 - val_sparse_categorical_accuracy: 0.8590\n",
      "Epoch 51/100\n",
      "39/39 [==============================] - 6s 144ms/step - loss: 0.2763 - sparse_categorical_accuracy: 0.9928 - val_loss: 0.9511 - val_sparse_categorical_accuracy: 0.8462\n",
      "Epoch 52/100\n",
      "39/39 [==============================] - 5s 137ms/step - loss: 0.2684 - sparse_categorical_accuracy: 0.9944 - val_loss: 0.8896 - val_sparse_categorical_accuracy: 0.8558\n",
      "Epoch 53/100\n",
      "39/39 [==============================] - 6s 145ms/step - loss: 0.2574 - sparse_categorical_accuracy: 0.9928 - val_loss: 0.9205 - val_sparse_categorical_accuracy: 0.8526\n",
      "Epoch 54/100\n",
      "39/39 [==============================] - 6s 150ms/step - loss: 0.2535 - sparse_categorical_accuracy: 0.9904 - val_loss: 0.8959 - val_sparse_categorical_accuracy: 0.8526\n",
      "Epoch 55/100\n",
      "39/39 [==============================] - 7s 178ms/step - loss: 0.2474 - sparse_categorical_accuracy: 0.9952 - val_loss: 0.9142 - val_sparse_categorical_accuracy: 0.8494\n",
      "Epoch 56/100\n",
      "39/39 [==============================] - 6s 164ms/step - loss: 0.2491 - sparse_categorical_accuracy: 0.9920 - val_loss: 0.8952 - val_sparse_categorical_accuracy: 0.8654\n",
      "Epoch 57/100\n",
      "39/39 [==============================] - 5s 139ms/step - loss: 0.2431 - sparse_categorical_accuracy: 0.9960 - val_loss: 0.9078 - val_sparse_categorical_accuracy: 0.8526\n",
      "Epoch 58/100\n",
      "39/39 [==============================] - 5s 141ms/step - loss: 0.2345 - sparse_categorical_accuracy: 0.9952 - val_loss: 0.9200 - val_sparse_categorical_accuracy: 0.8462\n",
      "Epoch 59/100\n",
      "39/39 [==============================] - 5s 138ms/step - loss: 0.2330 - sparse_categorical_accuracy: 0.9952 - val_loss: 0.9577 - val_sparse_categorical_accuracy: 0.8397\n",
      "Epoch 60/100\n",
      "39/39 [==============================] - 6s 142ms/step - loss: 0.2301 - sparse_categorical_accuracy: 0.9936 - val_loss: 0.8969 - val_sparse_categorical_accuracy: 0.8494\n",
      "Epoch 61/100\n",
      "39/39 [==============================] - 5s 139ms/step - loss: 0.2262 - sparse_categorical_accuracy: 0.9928 - val_loss: 0.9216 - val_sparse_categorical_accuracy: 0.8526\n",
      "Epoch 62/100\n",
      "39/39 [==============================] - 5s 138ms/step - loss: 0.2175 - sparse_categorical_accuracy: 0.9952 - val_loss: 0.8993 - val_sparse_categorical_accuracy: 0.8494\n",
      "Epoch 63/100\n",
      "39/39 [==============================] - 5s 140ms/step - loss: 0.2156 - sparse_categorical_accuracy: 0.9960 - val_loss: 0.8827 - val_sparse_categorical_accuracy: 0.8526\n",
      "Epoch 64/100\n",
      "39/39 [==============================] - 5s 137ms/step - loss: 0.2115 - sparse_categorical_accuracy: 0.9960 - val_loss: 0.8905 - val_sparse_categorical_accuracy: 0.8558\n",
      "Epoch 65/100\n",
      "39/39 [==============================] - 5s 137ms/step - loss: 0.2080 - sparse_categorical_accuracy: 0.9960 - val_loss: 0.8756 - val_sparse_categorical_accuracy: 0.8462\n",
      "Epoch 66/100\n",
      "39/39 [==============================] - 5s 141ms/step - loss: 0.2019 - sparse_categorical_accuracy: 0.9968 - val_loss: 0.9120 - val_sparse_categorical_accuracy: 0.8526\n",
      "Epoch 67/100\n",
      "39/39 [==============================] - 6s 149ms/step - loss: 0.2080 - sparse_categorical_accuracy: 0.9960 - val_loss: 0.8923 - val_sparse_categorical_accuracy: 0.8558\n",
      "Epoch 68/100\n",
      "39/39 [==============================] - 6s 150ms/step - loss: 0.2007 - sparse_categorical_accuracy: 0.9960 - val_loss: 0.8659 - val_sparse_categorical_accuracy: 0.8622\n",
      "Epoch 69/100\n",
      "39/39 [==============================] - 6s 153ms/step - loss: 0.1967 - sparse_categorical_accuracy: 0.9968 - val_loss: 0.9011 - val_sparse_categorical_accuracy: 0.8590\n",
      "Epoch 70/100\n",
      "39/39 [==============================] - 6s 165ms/step - loss: 0.1937 - sparse_categorical_accuracy: 0.9984 - val_loss: 0.8667 - val_sparse_categorical_accuracy: 0.8558\n",
      "Epoch 71/100\n",
      "39/39 [==============================] - 6s 160ms/step - loss: 0.1923 - sparse_categorical_accuracy: 0.9968 - val_loss: 0.8919 - val_sparse_categorical_accuracy: 0.8494\n",
      "Epoch 72/100\n",
      "34/39 [=========================>....] - ETA: 0s - loss: 0.1951 - sparse_categorical_accuracy: 0.9954"
     ]
    },
    {
     "ename": "KeyboardInterrupt",
     "evalue": "",
     "output_type": "error",
     "traceback": [
      "\u001b[1;31m---------------------------------------------------------------------------\u001b[0m",
      "\u001b[1;31mKeyboardInterrupt\u001b[0m                         Traceback (most recent call last)",
      "\u001b[1;32mC:\\Users\\KEVINM~1\\AppData\\Local\\Temp/ipykernel_15400/3729435751.py\u001b[0m in \u001b[0;36m<module>\u001b[1;34m\u001b[0m\n\u001b[0;32m      4\u001b[0m \u001b[0mmodel\u001b[0m\u001b[1;33m.\u001b[0m\u001b[0mcompile\u001b[0m\u001b[1;33m(\u001b[0m\u001b[0moptimizer\u001b[0m\u001b[1;33m=\u001b[0m\u001b[0mopt\u001b[0m\u001b[1;33m,\u001b[0m \u001b[0mloss\u001b[0m\u001b[1;33m=\u001b[0m\u001b[1;34m\"SparseCategoricalCrossentropy\"\u001b[0m\u001b[1;33m,\u001b[0m \u001b[0mmetrics\u001b[0m\u001b[1;33m=\u001b[0m\u001b[1;33m[\u001b[0m\u001b[1;34m\"sparse_categorical_accuracy\"\u001b[0m\u001b[1;33m]\u001b[0m\u001b[1;33m)\u001b[0m\u001b[1;33m\u001b[0m\u001b[1;33m\u001b[0m\u001b[0m\n\u001b[0;32m      5\u001b[0m \u001b[1;31m#The neural network will stop fitting if it gets 20 epochs without converge\u001b[0m\u001b[1;33m\u001b[0m\u001b[1;33m\u001b[0m\u001b[1;33m\u001b[0m\u001b[0m\n\u001b[1;32m----> 6\u001b[1;33m history = model.fit(x=X_train,\n\u001b[0m\u001b[0;32m      7\u001b[0m                     \u001b[0my\u001b[0m\u001b[1;33m=\u001b[0m\u001b[0my_train\u001b[0m\u001b[1;33m,\u001b[0m\u001b[1;33m\u001b[0m\u001b[1;33m\u001b[0m\u001b[0m\n\u001b[0;32m      8\u001b[0m                     \u001b[0mepochs\u001b[0m\u001b[1;33m=\u001b[0m\u001b[1;36m100\u001b[0m\u001b[1;33m,\u001b[0m\u001b[1;33m\u001b[0m\u001b[1;33m\u001b[0m\u001b[0m\n",
      "\u001b[1;32mc:\\users\\kevin maulana\\appdata\\local\\programs\\python\\python38\\lib\\site-packages\\keras\\utils\\traceback_utils.py\u001b[0m in \u001b[0;36merror_handler\u001b[1;34m(*args, **kwargs)\u001b[0m\n\u001b[0;32m     62\u001b[0m     \u001b[0mfiltered_tb\u001b[0m \u001b[1;33m=\u001b[0m \u001b[1;32mNone\u001b[0m\u001b[1;33m\u001b[0m\u001b[1;33m\u001b[0m\u001b[0m\n\u001b[0;32m     63\u001b[0m     \u001b[1;32mtry\u001b[0m\u001b[1;33m:\u001b[0m\u001b[1;33m\u001b[0m\u001b[1;33m\u001b[0m\u001b[0m\n\u001b[1;32m---> 64\u001b[1;33m       \u001b[1;32mreturn\u001b[0m \u001b[0mfn\u001b[0m\u001b[1;33m(\u001b[0m\u001b[1;33m*\u001b[0m\u001b[0margs\u001b[0m\u001b[1;33m,\u001b[0m \u001b[1;33m**\u001b[0m\u001b[0mkwargs\u001b[0m\u001b[1;33m)\u001b[0m\u001b[1;33m\u001b[0m\u001b[1;33m\u001b[0m\u001b[0m\n\u001b[0m\u001b[0;32m     65\u001b[0m     \u001b[1;32mexcept\u001b[0m \u001b[0mException\u001b[0m \u001b[1;32mas\u001b[0m \u001b[0me\u001b[0m\u001b[1;33m:\u001b[0m  \u001b[1;31m# pylint: disable=broad-except\u001b[0m\u001b[1;33m\u001b[0m\u001b[1;33m\u001b[0m\u001b[0m\n\u001b[0;32m     66\u001b[0m       \u001b[0mfiltered_tb\u001b[0m \u001b[1;33m=\u001b[0m \u001b[0m_process_traceback_frames\u001b[0m\u001b[1;33m(\u001b[0m\u001b[0me\u001b[0m\u001b[1;33m.\u001b[0m\u001b[0m__traceback__\u001b[0m\u001b[1;33m)\u001b[0m\u001b[1;33m\u001b[0m\u001b[1;33m\u001b[0m\u001b[0m\n",
      "\u001b[1;32mc:\\users\\kevin maulana\\appdata\\local\\programs\\python\\python38\\lib\\site-packages\\keras\\engine\\training.py\u001b[0m in \u001b[0;36mfit\u001b[1;34m(self, x, y, batch_size, epochs, verbose, callbacks, validation_split, validation_data, shuffle, class_weight, sample_weight, initial_epoch, steps_per_epoch, validation_steps, validation_batch_size, validation_freq, max_queue_size, workers, use_multiprocessing)\u001b[0m\n\u001b[0;32m   1214\u001b[0m                 _r=1):\n\u001b[0;32m   1215\u001b[0m               \u001b[0mcallbacks\u001b[0m\u001b[1;33m.\u001b[0m\u001b[0mon_train_batch_begin\u001b[0m\u001b[1;33m(\u001b[0m\u001b[0mstep\u001b[0m\u001b[1;33m)\u001b[0m\u001b[1;33m\u001b[0m\u001b[1;33m\u001b[0m\u001b[0m\n\u001b[1;32m-> 1216\u001b[1;33m               \u001b[0mtmp_logs\u001b[0m \u001b[1;33m=\u001b[0m \u001b[0mself\u001b[0m\u001b[1;33m.\u001b[0m\u001b[0mtrain_function\u001b[0m\u001b[1;33m(\u001b[0m\u001b[0miterator\u001b[0m\u001b[1;33m)\u001b[0m\u001b[1;33m\u001b[0m\u001b[1;33m\u001b[0m\u001b[0m\n\u001b[0m\u001b[0;32m   1217\u001b[0m               \u001b[1;32mif\u001b[0m \u001b[0mdata_handler\u001b[0m\u001b[1;33m.\u001b[0m\u001b[0mshould_sync\u001b[0m\u001b[1;33m:\u001b[0m\u001b[1;33m\u001b[0m\u001b[1;33m\u001b[0m\u001b[0m\n\u001b[0;32m   1218\u001b[0m                 \u001b[0mcontext\u001b[0m\u001b[1;33m.\u001b[0m\u001b[0masync_wait\u001b[0m\u001b[1;33m(\u001b[0m\u001b[1;33m)\u001b[0m\u001b[1;33m\u001b[0m\u001b[1;33m\u001b[0m\u001b[0m\n",
      "\u001b[1;32mc:\\users\\kevin maulana\\appdata\\local\\programs\\python\\python38\\lib\\site-packages\\tensorflow\\python\\util\\traceback_utils.py\u001b[0m in \u001b[0;36merror_handler\u001b[1;34m(*args, **kwargs)\u001b[0m\n\u001b[0;32m    148\u001b[0m     \u001b[0mfiltered_tb\u001b[0m \u001b[1;33m=\u001b[0m \u001b[1;32mNone\u001b[0m\u001b[1;33m\u001b[0m\u001b[1;33m\u001b[0m\u001b[0m\n\u001b[0;32m    149\u001b[0m     \u001b[1;32mtry\u001b[0m\u001b[1;33m:\u001b[0m\u001b[1;33m\u001b[0m\u001b[1;33m\u001b[0m\u001b[0m\n\u001b[1;32m--> 150\u001b[1;33m       \u001b[1;32mreturn\u001b[0m \u001b[0mfn\u001b[0m\u001b[1;33m(\u001b[0m\u001b[1;33m*\u001b[0m\u001b[0margs\u001b[0m\u001b[1;33m,\u001b[0m \u001b[1;33m**\u001b[0m\u001b[0mkwargs\u001b[0m\u001b[1;33m)\u001b[0m\u001b[1;33m\u001b[0m\u001b[1;33m\u001b[0m\u001b[0m\n\u001b[0m\u001b[0;32m    151\u001b[0m     \u001b[1;32mexcept\u001b[0m \u001b[0mException\u001b[0m \u001b[1;32mas\u001b[0m \u001b[0me\u001b[0m\u001b[1;33m:\u001b[0m\u001b[1;33m\u001b[0m\u001b[1;33m\u001b[0m\u001b[0m\n\u001b[0;32m    152\u001b[0m       \u001b[0mfiltered_tb\u001b[0m \u001b[1;33m=\u001b[0m \u001b[0m_process_traceback_frames\u001b[0m\u001b[1;33m(\u001b[0m\u001b[0me\u001b[0m\u001b[1;33m.\u001b[0m\u001b[0m__traceback__\u001b[0m\u001b[1;33m)\u001b[0m\u001b[1;33m\u001b[0m\u001b[1;33m\u001b[0m\u001b[0m\n",
      "\u001b[1;32mc:\\users\\kevin maulana\\appdata\\local\\programs\\python\\python38\\lib\\site-packages\\tensorflow\\python\\eager\\def_function.py\u001b[0m in \u001b[0;36m__call__\u001b[1;34m(self, *args, **kwds)\u001b[0m\n\u001b[0;32m    908\u001b[0m \u001b[1;33m\u001b[0m\u001b[0m\n\u001b[0;32m    909\u001b[0m       \u001b[1;32mwith\u001b[0m \u001b[0mOptionalXlaContext\u001b[0m\u001b[1;33m(\u001b[0m\u001b[0mself\u001b[0m\u001b[1;33m.\u001b[0m\u001b[0m_jit_compile\u001b[0m\u001b[1;33m)\u001b[0m\u001b[1;33m:\u001b[0m\u001b[1;33m\u001b[0m\u001b[1;33m\u001b[0m\u001b[0m\n\u001b[1;32m--> 910\u001b[1;33m         \u001b[0mresult\u001b[0m \u001b[1;33m=\u001b[0m \u001b[0mself\u001b[0m\u001b[1;33m.\u001b[0m\u001b[0m_call\u001b[0m\u001b[1;33m(\u001b[0m\u001b[1;33m*\u001b[0m\u001b[0margs\u001b[0m\u001b[1;33m,\u001b[0m \u001b[1;33m**\u001b[0m\u001b[0mkwds\u001b[0m\u001b[1;33m)\u001b[0m\u001b[1;33m\u001b[0m\u001b[1;33m\u001b[0m\u001b[0m\n\u001b[0m\u001b[0;32m    911\u001b[0m \u001b[1;33m\u001b[0m\u001b[0m\n\u001b[0;32m    912\u001b[0m       \u001b[0mnew_tracing_count\u001b[0m \u001b[1;33m=\u001b[0m \u001b[0mself\u001b[0m\u001b[1;33m.\u001b[0m\u001b[0mexperimental_get_tracing_count\u001b[0m\u001b[1;33m(\u001b[0m\u001b[1;33m)\u001b[0m\u001b[1;33m\u001b[0m\u001b[1;33m\u001b[0m\u001b[0m\n",
      "\u001b[1;32mc:\\users\\kevin maulana\\appdata\\local\\programs\\python\\python38\\lib\\site-packages\\tensorflow\\python\\eager\\def_function.py\u001b[0m in \u001b[0;36m_call\u001b[1;34m(self, *args, **kwds)\u001b[0m\n\u001b[0;32m    940\u001b[0m       \u001b[1;31m# In this case we have created variables on the first call, so we run the\u001b[0m\u001b[1;33m\u001b[0m\u001b[1;33m\u001b[0m\u001b[1;33m\u001b[0m\u001b[0m\n\u001b[0;32m    941\u001b[0m       \u001b[1;31m# defunned version which is guaranteed to never create variables.\u001b[0m\u001b[1;33m\u001b[0m\u001b[1;33m\u001b[0m\u001b[1;33m\u001b[0m\u001b[0m\n\u001b[1;32m--> 942\u001b[1;33m       \u001b[1;32mreturn\u001b[0m \u001b[0mself\u001b[0m\u001b[1;33m.\u001b[0m\u001b[0m_stateless_fn\u001b[0m\u001b[1;33m(\u001b[0m\u001b[1;33m*\u001b[0m\u001b[0margs\u001b[0m\u001b[1;33m,\u001b[0m \u001b[1;33m**\u001b[0m\u001b[0mkwds\u001b[0m\u001b[1;33m)\u001b[0m  \u001b[1;31m# pylint: disable=not-callable\u001b[0m\u001b[1;33m\u001b[0m\u001b[1;33m\u001b[0m\u001b[0m\n\u001b[0m\u001b[0;32m    943\u001b[0m     \u001b[1;32melif\u001b[0m \u001b[0mself\u001b[0m\u001b[1;33m.\u001b[0m\u001b[0m_stateful_fn\u001b[0m \u001b[1;32mis\u001b[0m \u001b[1;32mnot\u001b[0m \u001b[1;32mNone\u001b[0m\u001b[1;33m:\u001b[0m\u001b[1;33m\u001b[0m\u001b[1;33m\u001b[0m\u001b[0m\n\u001b[0;32m    944\u001b[0m       \u001b[1;31m# Release the lock early so that multiple threads can perform the call\u001b[0m\u001b[1;33m\u001b[0m\u001b[1;33m\u001b[0m\u001b[1;33m\u001b[0m\u001b[0m\n",
      "\u001b[1;32mc:\\users\\kevin maulana\\appdata\\local\\programs\\python\\python38\\lib\\site-packages\\tensorflow\\python\\eager\\function.py\u001b[0m in \u001b[0;36m__call__\u001b[1;34m(self, *args, **kwargs)\u001b[0m\n\u001b[0;32m   3128\u001b[0m       (graph_function,\n\u001b[0;32m   3129\u001b[0m        filtered_flat_args) = self._maybe_define_function(args, kwargs)\n\u001b[1;32m-> 3130\u001b[1;33m     return graph_function._call_flat(\n\u001b[0m\u001b[0;32m   3131\u001b[0m         filtered_flat_args, captured_inputs=graph_function.captured_inputs)  # pylint: disable=protected-access\n\u001b[0;32m   3132\u001b[0m \u001b[1;33m\u001b[0m\u001b[0m\n",
      "\u001b[1;32mc:\\users\\kevin maulana\\appdata\\local\\programs\\python\\python38\\lib\\site-packages\\tensorflow\\python\\eager\\function.py\u001b[0m in \u001b[0;36m_call_flat\u001b[1;34m(self, args, captured_inputs, cancellation_manager)\u001b[0m\n\u001b[0;32m   1957\u001b[0m         and executing_eagerly):\n\u001b[0;32m   1958\u001b[0m       \u001b[1;31m# No tape is watching; skip to running the function.\u001b[0m\u001b[1;33m\u001b[0m\u001b[1;33m\u001b[0m\u001b[1;33m\u001b[0m\u001b[0m\n\u001b[1;32m-> 1959\u001b[1;33m       return self._build_call_outputs(self._inference_function.call(\n\u001b[0m\u001b[0;32m   1960\u001b[0m           ctx, args, cancellation_manager=cancellation_manager))\n\u001b[0;32m   1961\u001b[0m     forward_backward = self._select_forward_and_backward_functions(\n",
      "\u001b[1;32mc:\\users\\kevin maulana\\appdata\\local\\programs\\python\\python38\\lib\\site-packages\\tensorflow\\python\\eager\\function.py\u001b[0m in \u001b[0;36mcall\u001b[1;34m(self, ctx, args, cancellation_manager)\u001b[0m\n\u001b[0;32m    596\u001b[0m       \u001b[1;32mwith\u001b[0m \u001b[0m_InterpolateFunctionError\u001b[0m\u001b[1;33m(\u001b[0m\u001b[0mself\u001b[0m\u001b[1;33m)\u001b[0m\u001b[1;33m:\u001b[0m\u001b[1;33m\u001b[0m\u001b[1;33m\u001b[0m\u001b[0m\n\u001b[0;32m    597\u001b[0m         \u001b[1;32mif\u001b[0m \u001b[0mcancellation_manager\u001b[0m \u001b[1;32mis\u001b[0m \u001b[1;32mNone\u001b[0m\u001b[1;33m:\u001b[0m\u001b[1;33m\u001b[0m\u001b[1;33m\u001b[0m\u001b[0m\n\u001b[1;32m--> 598\u001b[1;33m           outputs = execute.execute(\n\u001b[0m\u001b[0;32m    599\u001b[0m               \u001b[0mstr\u001b[0m\u001b[1;33m(\u001b[0m\u001b[0mself\u001b[0m\u001b[1;33m.\u001b[0m\u001b[0msignature\u001b[0m\u001b[1;33m.\u001b[0m\u001b[0mname\u001b[0m\u001b[1;33m)\u001b[0m\u001b[1;33m,\u001b[0m\u001b[1;33m\u001b[0m\u001b[1;33m\u001b[0m\u001b[0m\n\u001b[0;32m    600\u001b[0m               \u001b[0mnum_outputs\u001b[0m\u001b[1;33m=\u001b[0m\u001b[0mself\u001b[0m\u001b[1;33m.\u001b[0m\u001b[0m_num_outputs\u001b[0m\u001b[1;33m,\u001b[0m\u001b[1;33m\u001b[0m\u001b[1;33m\u001b[0m\u001b[0m\n",
      "\u001b[1;32mc:\\users\\kevin maulana\\appdata\\local\\programs\\python\\python38\\lib\\site-packages\\tensorflow\\python\\eager\\execute.py\u001b[0m in \u001b[0;36mquick_execute\u001b[1;34m(op_name, num_outputs, inputs, attrs, ctx, name)\u001b[0m\n\u001b[0;32m     56\u001b[0m   \u001b[1;32mtry\u001b[0m\u001b[1;33m:\u001b[0m\u001b[1;33m\u001b[0m\u001b[1;33m\u001b[0m\u001b[0m\n\u001b[0;32m     57\u001b[0m     \u001b[0mctx\u001b[0m\u001b[1;33m.\u001b[0m\u001b[0mensure_initialized\u001b[0m\u001b[1;33m(\u001b[0m\u001b[1;33m)\u001b[0m\u001b[1;33m\u001b[0m\u001b[1;33m\u001b[0m\u001b[0m\n\u001b[1;32m---> 58\u001b[1;33m     tensors = pywrap_tfe.TFE_Py_Execute(ctx._handle, device_name, op_name,\n\u001b[0m\u001b[0;32m     59\u001b[0m                                         inputs, attrs, num_outputs)\n\u001b[0;32m     60\u001b[0m   \u001b[1;32mexcept\u001b[0m \u001b[0mcore\u001b[0m\u001b[1;33m.\u001b[0m\u001b[0m_NotOkStatusException\u001b[0m \u001b[1;32mas\u001b[0m \u001b[0me\u001b[0m\u001b[1;33m:\u001b[0m\u001b[1;33m\u001b[0m\u001b[1;33m\u001b[0m\u001b[0m\n",
      "\u001b[1;31mKeyboardInterrupt\u001b[0m: "
     ]
    }
   ],
   "source": [
    "from tensorflow.keras.optimizers import Adam\n",
    "model = Model(entry,x)\n",
    "opt = Adam(learning_rate = 0.0001)\n",
    "model.compile(optimizer=opt, loss=\"SparseCategoricalCrossentropy\", metrics=[\"sparse_categorical_accuracy\"])\n",
    "#The neural network will stop fitting if it gets 20 epochs without converge\n",
    "history = model.fit(x=X_train,\n",
    "                    y=y_train,\n",
    "                    epochs=100,\n",
    "                   validation_data=(X_test,y_test),\n",
    "                   verbose=1)"
   ]
  },
  {
   "cell_type": "code",
   "execution_count": null,
   "id": "91a9bca5",
   "metadata": {},
   "outputs": [],
   "source": [
    "# Plot the chart for accuracy and loss on both training and validation\n",
    "%matplotlib inline\n",
    "import matplotlib.pyplot as plt\n",
    "acc = history.history['accuracy']\n",
    "val_acc = history.history['val_accuracy']\n",
    "loss = history.history['loss']\n",
    "val_loss = history.history['val_loss']\n",
    "\n",
    "epochs = range(len(acc))\n",
    "\n",
    "plt.plot(epochs, acc, 'r', label='Training accuracy')\n",
    "plt.plot(epochs, val_acc, 'b', label='Validation accuracy')\n",
    "plt.title('Training and validation accuracy')\n",
    "plt.legend()\n",
    "plt.figure()\n",
    "\n",
    "plt.plot(epochs, loss, 'r', label='Training Loss')\n",
    "plt.plot(epochs, val_loss, 'b', label='Validation Loss')\n",
    "plt.title('Training and validation loss')\n",
    "plt.legend()\n",
    "\n",
    "plt.show()"
   ]
  },
  {
   "cell_type": "code",
   "execution_count": null,
   "id": "a2a4a6b3",
   "metadata": {},
   "outputs": [],
   "source": []
  }
 ],
 "metadata": {
  "kernelspec": {
   "display_name": "Python 3 (ipykernel)",
   "language": "python",
   "name": "python3"
  },
  "language_info": {
   "codemirror_mode": {
    "name": "ipython",
    "version": 3
   },
   "file_extension": ".py",
   "mimetype": "text/x-python",
   "name": "python",
   "nbconvert_exporter": "python",
   "pygments_lexer": "ipython3",
   "version": "3.8.0"
  }
 },
 "nbformat": 4,
 "nbformat_minor": 5
}
